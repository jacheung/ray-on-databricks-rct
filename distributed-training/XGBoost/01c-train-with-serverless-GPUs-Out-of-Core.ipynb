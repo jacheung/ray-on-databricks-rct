{
 "cells": [
  {
   "cell_type": "markdown",
   "metadata": {
    "application/vnd.databricks.v1+cell": {
     "cellMetadata": {
      "byteLimit": 2048000,
      "rowLimit": 10000
     },
     "inputWidgets": {},
     "nuid": "e809f69b-44a6-4b71-a09a-979411e26579",
     "showTitle": false,
     "tableResultSettingsMap": {},
     "title": ""
    }
   },
   "source": [
    "## Distributed XGBoost with GPUs using Ray on Serverless GPU Compute\n",
    "\n",
    "Ray provides a version of XGBoost to perform distributed data parallelism. With drop-in replacements of `xgboost` native classes, XGBoost Ray allows you to leverage multi-node clusters to distribute your training across serverless GPU infrastructure.\n",
    "\n",
    "This demo uses a dataset created from `00-create-dataset` with **30M rows × 100 feature columns × 1 target column (2 classes)** for binary classification. This dataset is ~12GB compressed and provides an excellent foundation for distributed training experiments.\n",
    "\n",
    "### Serverless GPU Compute Benefits\n",
    "\n",
    "- **On-Demand Scaling**: Automatically provision and scale GPU resources based on workload demands\n",
    "- **Cost Optimization**: Pay only for compute time used, with automatic resource cleanup\n",
    "- **No Infrastructure Management**: Focus on ML training without managing underlying hardware\n",
    "- **High Availability**: Built-in fault tolerance and automatic failover capabilities \n",
    "\n",
    "\n",
    "#### FAQs\n",
    "\n",
    "**When do I switch to a distributed version of XGBoost?**\n",
    "- Large XGBoost datasets should use distributed data parallelism (DDP). We're using 30M rows here for demonstration purposes.\n",
    "- Consider single-node and multi-threading across all CPUs, then DDP across multiple nodes with CPUs, then DDP leveraging multiple GPUs.\n",
    "\n",
    "**If I'm using GPUs, how much memory (VRAM) do I need for my dataset?**\n",
    "- 30M rows × 100 columns × 4 bytes (float32) = ~12GB\n",
    "- We'll need a total of 2-3x the data footprint in VRAM across our GPUs (we'll go with 2x so ~24GB) to train our model\n",
    "- This total memory accounts for the xgboost DMatrix (can sometimes be bigger than the original dataset), boosting rounds, model size, gradients, and intermediate computations\n",
    "- **A10G GPUs** (24GB VRAM each) are perfect for this workload - we'll use 1-2 GPUs per model\n",
    "\n",
    "### Serverless GPU Compute Specifications\n",
    "**Databricks Serverless GPU Compute:**\n",
    "- **GPU Types**: NVIDIA A10G (24GB VRAM), H100 (80GB VRAM)\n",
    "- **Auto-scaling**: Automatically scales based on workload demands\n",
    "- **Billing**: Pay-per-second billing with automatic resource cleanup\n",
    "- **Availability**: Multi-region support with high availability\n",
    "- **Integration**: Seamless integration with Unity Catalog and MLflow\n",
    "\n",
    "**Recommended Configuration:**\n",
    "- **Workers**: 2-4 Ray workers for optimal performance\n",
    "- **GPU Allocation**: 1 A10G GPU per worker (24GB VRAM)\n",
    "- **Memory**: 32GB RAM per worker for data preprocessing\n",
    "- **Storage**: Unity Catalog integration for data access\n",
    "\n",
    "\n",
    "\n",
    "\n",
    "```"
   ]
  },
  {
   "cell_type": "code",
   "execution_count": 0,
   "metadata": {
    "application/vnd.databricks.v1+cell": {
     "cellMetadata": {
      "byteLimit": 2048000,
      "rowLimit": 10000
     },
     "inputWidgets": {},
     "nuid": "45f9e867-2d65-4987-ac74-c84bc5b8a134",
     "showTitle": false,
     "tableResultSettingsMap": {},
     "title": ""
    }
   },
   "outputs": [],
   "source": [
    "# Install required packages for distributed XGBoost training\n",
    "%pip install -qU ray[all]=2.49.1 xgboost optuna \"mlflow<3.0,>=2.17\"\n",
    "%pip install '/Workspace/Users/jon.cheung@databricks.com/ray-on-databricks-rct/distributed-training/XGBoost/databricks.serverless_gpu-0.5.3-py3-none-any.whl'\n",
    "\n",
    "dbutils.library.restartPython()"
   ]
  },
  {
   "cell_type": "markdown",
   "metadata": {
    "application/vnd.databricks.v1+cell": {
     "cellMetadata": {
      "byteLimit": 2048000,
      "rowLimit": 10000
     },
     "inputWidgets": {},
     "nuid": "5f5e0fea-3294-4501-883e-206fb7921a60",
     "showTitle": false,
     "tableResultSettingsMap": {},
     "title": ""
    }
   },
   "source": [
    "## Step 1: Configure Dataset Parameters\n",
    "\n",
    "Set up the parameters for accessing our synthetic dataset and configure the training environment.\n"
   ]
  },
  {
   "cell_type": "code",
   "execution_count": 0,
   "metadata": {
    "application/vnd.databricks.v1+cell": {
     "cellMetadata": {
      "byteLimit": 2048000,
      "rowLimit": 10000
     },
     "inputWidgets": {},
     "nuid": "893c3f42-6f33-46bf-9c81-e5a69f421218",
     "showTitle": false,
     "tableResultSettingsMap": {},
     "title": ""
    }
   },
   "outputs": [],
   "source": [
    "# Define job inputs\n",
    "dbutils.widgets.text(\"catalog_name\", \"main\", \"Unity Catalog Name\")\n",
    "dbutils.widgets.text(\"schema_name\", \"ray_gtm_examples\", \"Unity Catalog Schema Name\")\n",
    "dbutils.widgets.text(\"num_training_rows\", \"30000000\", \"rows of data to generate\")\n",
    "dbutils.widgets.text(\"num_training_columns\", \"100\", \"number of feature columns\")\n",
    "dbutils.widgets.text(\"num_labels\", \"2\", \"number of labels in the target column\")\n",
    "dbutils.widgets.text(\"warehouse_id\", \"8baced1ff014912d\", \"ID of warehouse to use\")\n",
    "\n",
    "\n",
    "# Get parameter values (will override widget defaults if run by job)\n",
    "catalog_name = dbutils.widgets.get(\"catalog_name\")\n",
    "schema_name = dbutils.widgets.get(\"schema_name\")\n",
    "num_training_rows = int(dbutils.widgets.get(\"num_training_rows\"))\n",
    "num_training_columns = int(dbutils.widgets.get(\"num_training_columns\"))\n",
    "num_labels = int(dbutils.widgets.get(\"num_labels\"))\n",
    "warehouse_id = dbutils.widgets.get(\"warehouse_id\")\n"
   ]
  },
  {
   "cell_type": "markdown",
   "metadata": {
    "application/vnd.databricks.v1+cell": {
     "cellMetadata": {
      "byteLimit": 2048000,
      "rowLimit": 10000
     },
     "inputWidgets": {},
     "nuid": "fa57f128-6906-432d-a313-70797119fd2b",
     "showTitle": false,
     "tableResultSettingsMap": {},
     "title": ""
    }
   },
   "source": [
    "## Step 2: Set Up Storage and Environment\n",
    "\n",
    "Configure the storage paths for Ray data and set up the Databricks environment for distributed training.\n"
   ]
  },
  {
   "cell_type": "code",
   "execution_count": 0,
   "metadata": {
    "application/vnd.databricks.v1+cell": {
     "cellMetadata": {
      "byteLimit": 2048000,
      "rowLimit": 10000
     },
     "inputWidgets": {},
     "nuid": "6bdc7994-3c80-47bd-a10c-19038157cb75",
     "showTitle": false,
     "tableResultSettingsMap": {},
     "title": ""
    }
   },
   "outputs": [],
   "source": [
    "import os \n",
    "\n",
    "table = f\"synthetic_data_{num_training_rows}_rows_{num_training_columns}_columns_{num_labels}_labels\"\n",
    "label=\"target\"\n",
    "\n",
    "import os\n",
    "from databricks.sdk import WorkspaceClient\n",
    "from databricks.sdk.service import catalog\n",
    "from databricks.sdk.errors import ResourceAlreadyExists\n",
    "\n",
    "w = WorkspaceClient()\n",
    "\n",
    "# If running in a multi-node cluster, this is where you\n",
    "# should configure the run's persistent storage that is accessible\n",
    "# across all worker nodes.\n",
    "ray_xgboost_path = f'/Volumes/{catalog_name}/{schema_name}/ray_data_tmp_dir' \n",
    "\n",
    "if not os.path.exists(ray_xgboost_path):\n",
    "    created_volume = w.volumes.create(catalog_name=catalog_name,\n",
    "                                        schema_name=schema_name,\n",
    "                                        name='ray_data_tmp_dir',\n",
    "                                        volume_type=catalog.VolumeType.MANAGED\n",
    "                                        )\n",
    "    print(f\"Volume 'synthetic_data' at {ray_xgboost_path} created successfully\")\n",
    "else:\n",
    "    print(f\"Volume {ray_xgboost_path} already exists. Skipping volumes creation.\")\n",
    "\n",
    "\n",
    "\n",
    "\n",
    "# # Set the parameters here so mlflow works properly at the Ray head + worker nodes\n",
    "os.environ['DATABRICKS_HOST'] =  dbutils.notebook.entry_point.getDbutils().notebook().getContext().apiUrl().get()\n",
    "os.environ['DATABRICKS_TOKEN'] = dbutils.notebook.entry_point.getDbutils().notebook().getContext().apiToken().get()"
   ]
  },
  {
   "cell_type": "markdown",
   "metadata": {
    "application/vnd.databricks.v1+cell": {
     "cellMetadata": {
      "byteLimit": 2048000,
      "rowLimit": 10000
     },
     "inputWidgets": {},
     "nuid": "905d5f3d-fa02-4a0c-89f5-aebe149fbb87",
     "showTitle": false,
     "tableResultSettingsMap": {},
     "title": ""
    }
   },
   "source": [
    "## Step 3: Load Dataset with Ray\n",
    "\n",
    "Load the synthetic dataset using Ray Datasets, with fallback to Parquet files if needed.\n"
   ]
  },
  {
   "cell_type": "code",
   "execution_count": 0,
   "metadata": {
    "application/vnd.databricks.v1+cell": {
     "cellMetadata": {
      "byteLimit": 2048000,
      "rowLimit": 10000
     },
     "inputWidgets": {},
     "nuid": "c4cb052f-751e-438f-b3cc-c9c5ddcb14e8",
     "showTitle": false,
     "tableResultSettingsMap": {},
     "title": ""
    }
   },
   "outputs": [],
   "source": [
    "import ray\n",
    "\n",
    "def read_ray_dataset(catalog, schema, table):\n",
    "  try: \n",
    "    ## Option 1 (PREFERRED): Build a Ray Dataset using a Databricks SQL Warehouse\n",
    "    # Insert your SQL warehouse ID here. I've queried my 100M row dataset using a Small t-shirt sized cluster.\n",
    "    # Ensure you've set the DATABRICKS_TOKEN so you can query using the warehouse compute\n",
    "    ds = ray.data.read_databricks_tables(\n",
    "      warehouse_id=warehouse_id,\n",
    "      catalog=catalog,\n",
    "      schema=schema,\n",
    "      query=f'SELECT * FROM {table}',\n",
    "    )\n",
    "    print('read directly from UC')\n",
    "  except: \n",
    "    ## Option 2: Fallback option to build a Ray Dataset using Parquet files\n",
    "    # If you have too many Ray nodes, you may not be able to create a Ray dataset using the warehouse method above because of rate limits. One back up solution is to create parquet files from the delta table and build a ray dataset from that. This is not a recommended route because you are duplicating data.\n",
    "    parquet_path = f'/Volumes/{catalog}/{schema}/synthetic_data/{table}'\n",
    "    ds = ray.data.read_parquet(parquet_path)\n",
    "    print('read directly from parquet')\n",
    "\n",
    "  train_dataset, val_dataset = ds.train_test_split(test_size=0.25)\n",
    "  return train_dataset, val_dataset\n",
    "\n",
    "\n"
   ]
  },
  {
   "cell_type": "markdown",
   "metadata": {
    "application/vnd.databricks.v1+cell": {
     "cellMetadata": {
      "byteLimit": 2048000,
      "rowLimit": 10000
     },
     "inputWidgets": {},
     "nuid": "7fca171c-26d0-497b-b518-70a94b750e6b",
     "showTitle": false,
     "tableResultSettingsMap": {},
     "title": ""
    }
   },
   "source": [
    "## Step 4: Define Training Function\n",
    "\n",
    "Create the per-worker training function that will be executed on each Ray worker node.\n"
   ]
  },
  {
   "cell_type": "code",
   "execution_count": 0,
   "metadata": {
    "application/vnd.databricks.v1+cell": {
     "cellMetadata": {
      "byteLimit": 2048000,
      "rowLimit": 10000
     },
     "inputWidgets": {},
     "nuid": "3060fa40-7b73-4524-8533-397e17f5c7fc",
     "showTitle": false,
     "tableResultSettingsMap": {},
     "title": ""
    }
   },
   "outputs": [],
   "source": [
    "import xgboost\n",
    "from ray.train.xgboost import XGBoostTrainer, RayTrainReportCallback\n",
    "\n",
    "def train_fn_per_worker(params: dict):\n",
    "    \"\"\"\n",
    "    Trains an XGBoost model on a shard of the distributed dataset assigned to this worker.\n",
    "\n",
    "    This should look very similar to a vanilla XGboost training.\n",
    "\n",
    "    This function is designed to be executed by individual Ray Train workers.\n",
    "    It retrieves the training and validation data shards, converts them to DMatrix format,\n",
    "    and performs a portion of the distributed XGBoost training. Ray Train handles\n",
    "    the inter-worker communication.\n",
    "\n",
    "    Args:\n",
    "        params (dict): A dictionary of XGBoost training parameters, including\n",
    "                       'num_estimators', 'eval_metric', and potentially other\n",
    "                       XGBoost-specific parameters.\n",
    "    \"\"\"\n",
    "\n",
    "    # Get dataset shards for this worker\n",
    "    train_shard = ray.train.get_dataset_shard(\"train\")\n",
    "    val_shard = ray.train.get_dataset_shard(\"val\")\n",
    "\n",
    "    # Convert shards to pandas DataFrames\n",
    "    train_df = train_shard.materialize().to_pandas()\n",
    "    val_df = val_shard.materialize().to_pandas()\n",
    "\n",
    "    train_X = train_df.drop(label, axis=1)\n",
    "    train_y = train_df[label]\n",
    "    val_X = val_df.drop(label, axis=1)\n",
    "    val_y = val_df[label]\n",
    "    \n",
    "    dtrain = xgboost.DMatrix(train_X, label=train_y)\n",
    "    deval = xgboost.DMatrix(val_X, label=val_y)\n",
    "\n",
    "    # Do distributed data-parallel training.\n",
    "    # Ray Train sets up the necessary coordinator processes and\n",
    "    # environment variables for workers to communicate with each other.\n",
    "    evals_results = {}\n",
    "    bst = xgboost.train(\n",
    "        params,\n",
    "        dtrain=dtrain,\n",
    "        evals=[(deval, \"validation\")],\n",
    "        num_boost_round=params['num_estimators'],\n",
    "        evals_result=evals_results,\n",
    "        callbacks=[RayTrainReportCallback(metrics={params['eval_metric']: f\"validation-{params['eval_metric']}\"},\n",
    "                                          frequency=1)],\n",
    "    )\n"
   ]
  },
  {
   "cell_type": "markdown",
   "metadata": {
    "application/vnd.databricks.v1+cell": {
     "cellMetadata": {
      "byteLimit": 2048000,
      "rowLimit": 10000
     },
     "inputWidgets": {},
     "nuid": "423b15d6-437a-45c6-bc7f-44a5c9d134a1",
     "showTitle": false,
     "tableResultSettingsMap": {},
     "title": ""
    }
   },
   "source": [
    "## Step 5: Define Training Driver\n",
    "\n",
    "Create the training driver function that orchestrates the distributed XGBoost training process.\n"
   ]
  },
  {
   "cell_type": "code",
   "execution_count": 0,
   "metadata": {
    "application/vnd.databricks.v1+cell": {
     "cellMetadata": {
      "byteLimit": 2048000,
      "rowLimit": 10000
     },
     "inputWidgets": {},
     "nuid": "2af42c58-c7c5-4b68-b13c-ee62eb956946",
     "showTitle": false,
     "tableResultSettingsMap": {},
     "title": ""
    }
   },
   "outputs": [],
   "source": [
    "def train_driver_fn(config: dict, train_dataset, val_dataset):\n",
    "    \"\"\"\n",
    "    Drives the distributed XGBoost training process using Ray Train.\n",
    "\n",
    "    This function sets up the XGBoostTrainer, configures scaling (number of workers, GPU usage,\n",
    "    and resources per worker), and initiates the distributed training by calling `trainer.fit()`.\n",
    "    It also propagates metrics back to Ray Tune if integrated.\n",
    "\n",
    "    Args:\n",
    "        config (dict): A dictionary containing run-level hyperparameters such as\n",
    "                       'num_workers', 'use_gpu', and a nested 'params' dictionary\n",
    "                       for XGBoost training parameters.\n",
    "        train_dataset: The Ray Dataset for training.\n",
    "        val_dataset: The Ray Dataset for validation.\n",
    "\n",
    "    Returns:\n",
    "        None: The function reports metrics to Ray Tune but does not explicitly return a value.\n",
    "              The trained model artifact is typically handled by Ray Train's checkpointing\n",
    "              or by the `train_fn_per_worker` if saved directly.\n",
    "    \"\"\"\n",
    "    # Unpack run-level hyperparameters.\n",
    "    num_workers = config[\"num_workers\"]\n",
    "    use_gpu = config[\"use_gpu\"]\n",
    "    params = config['params']\n",
    "\n",
    "    # Initialize the XGBoostTrainer, which orchestrates the distributed training using Ray.\n",
    "    trainer = XGBoostTrainer(\n",
    "      train_loop_per_worker=train_fn_per_worker, # The function to be executed on each worker\n",
    "      train_loop_config=params,\n",
    "      # By default Ray uses 1 GPU and 1 CPU per worker if resources_per_worker is not specified.\n",
    "      # XGBoost is multi-threaded, so multiple CPUs can be assigned per worker, but not GPUs.\n",
    "      scaling_config=ray.train.ScalingConfig(num_workers=num_workers, \n",
    "                                             use_gpu=use_gpu,\n",
    "                                             resources_per_worker={\"CPU\": 12, \"GPU\": 1}),\n",
    "      datasets={\"train\": train_dataset, \"val\": val_dataset},  # Ray Datasets to be used by the trainer + workers\n",
    "      run_config=ray.train.RunConfig(storage_path=ray_xgboost_path,                                  \n",
    "                                    #  name=f\"train-trial_id={ray.tune.get_context().get_trial_id()}\"\n",
    "                                    )\n",
    "    )\n",
    "    \n",
    "                                    \n",
    "    result = trainer.fit()\n",
    "    \n",
    "    # Propagate metrics back up for Ray Tune. \n",
    "    # Ensure 'mlogloss' is the correct metric key based on your eval_metric and results.\n",
    "    ray.tune.report({params['eval_metric']: result.metrics['mlogloss']},checkpoint=result.checkpoint)"
   ]
  },
  {
   "cell_type": "markdown",
   "metadata": {
    "application/vnd.databricks.v1+cell": {
     "cellMetadata": {
      "byteLimit": 2048000,
      "rowLimit": 10000
     },
     "inputWidgets": {},
     "nuid": "f4c23f41-5112-43ed-a668-7a284034eb3a",
     "showTitle": false,
     "tableResultSettingsMap": {},
     "title": ""
    }
   },
   "source": [
    "## Step 6: Hyperparameter Optimization with Ray Tune\n",
    "\n",
    "Configure Ray Tune for automated hyperparameter optimization with MLflow integration.\n",
    "\n",
    "**Key Features:**\n",
    "- **Optuna Search**: Bayesian optimization for efficient hyperparameter search\n",
    "- **MLflow Integration**: Automatic experiment tracking and model logging\n",
    "- **Distributed Training**: Parallel hyperparameter trials across multiple workers\n",
    "- **Resource Management**: Automatic scaling and resource allocation\n",
    "\n",
    "**Documentation**: [Ray Tune Hyperparameter Optimization](https://docs.ray.io/en/latest/train/user-guides/hyperparameter-optimization.html#hyperparameter-tuning-with-ray-tune)\n",
    "\n",
    "---\n",
    "\n",
    "### Configurable Hyperparameter Optimization (HPO) Parameters\n",
    "\n",
    "The following parameters can be configured for hyperparameter optimization (HPO) with Ray Tune and Optuna. Some are fixed for this demo, while others are tunable as part of the search space.\n",
    "\n",
    "| Parameter              | Description                                                      | Tunable (HPO) | Example/Default Value or Range |\n",
    "|------------------------|------------------------------------------------------------------|:-------------:|-------------------------------|\n",
    "| `num_workers`          | Number of Ray workers (each with 1 GPU)                          | No            | 2                             |\n",
    "| `use_gpu`              | Whether to use GPU for training                                  | No            | True                          |\n",
    "| `objective`            | XGBoost objective function                                       | No            | `multi:softmax`               |\n",
    "| `eval_metric`          | Evaluation metric for optimization                               | No            | `mlogloss`                    |\n",
    "| `tree_method`          | XGBoost tree construction method                                 | No            | `hist`                        |\n",
    "| `device`               | Device type for XGBoost                                          | No            | `cuda`                        |\n",
    "| `num_class`            | Number of classes (labels) in the target column                  | No            | 2                             |\n",
    "| `learning_rate`        | Learning rate for boosting                                       | Yes           | 0.01–0.3 (uniform)            |\n",
    "| `num_estimators`       | Number of boosting rounds (trees)                                | Yes           | 200–300 (integer)               |\n",
    "| `max_concurrent_trials`| Maximum concurrent HPO trials                                    | No            | 4                             |\n",
    "| `num_hpo_trials`       | Total number of HPO trials to run                                | No            | 8                             |\n",
    "\n",
    "> **Note:**\n",
    "> - `learning_rate` and `num_estimators` are tunable by Optuna during HPO.\n",
    "> - You can adjust the search space and fixed values in the code (see the next cell for details)."
   ]
  },
  {
   "cell_type": "code",
   "execution_count": 0,
   "metadata": {
    "application/vnd.databricks.v1+cell": {
     "cellMetadata": {
      "byteLimit": 2048000,
      "rowLimit": 10000
     },
     "inputWidgets": {},
     "nuid": "35128cfc-d991-482b-84ff-7dcc49c7274e",
     "showTitle": false,
     "tableResultSettingsMap": {},
     "title": ""
    }
   },
   "outputs": [],
   "source": [
    "import mlflow\n",
    "from ray import tune\n",
    "from ray.tune.search.optuna import OptunaSearch\n",
    "from ray.air.integrations.mlflow import MLflowLoggerCallback\n",
    "\n",
    "\n",
    "@ray.remote(num_cpus=1)  # please make sure main_task is not scheduled on head\n",
    "class TaskRunner:\n",
    "    def run(self):\n",
    "      \n",
    "      # Load dataset as distributed Ray Dataset\n",
    "      train_dataset, val_dataset = read_ray_dataset(catalog_name, schema_name, table)\n",
    "      \n",
    "      # Define resources per HPO trial and calculate max concurrent HPO trials\n",
    "      num_workers = 2\n",
    "      num_hpo_trials = 8\n",
    "      resources = ray.cluster_resources()\n",
    "      total_cluster_gpus = resources.get(\"GPU\") \n",
    "      # max_concurrent_trials = int(total_cluster_gpus // num_gpu_workers_per_trial)\n",
    "      max_concurrent_trials = 4\n",
    "\n",
    "\n",
    "      # Define the hyperparameter search space.\n",
    "      # XGB sample hyperparameter configs\n",
    "      param_space = {\n",
    "          \"num_workers\": num_workers,\n",
    "          \"use_gpu\": True,\n",
    "          \"params\":{\"objective\": \"multi:softmax\",\n",
    "                    'eval_metric': 'mlogloss', \n",
    "                    \"tree_method\": \"hist\",\n",
    "                    \"device\": \"cuda\",\n",
    "                    \"num_class\": num_labels,\n",
    "                    \"learning_rate\": tune.uniform(0.01, 0.3),\n",
    "                    \"num_estimators\": tune.randint(20, 30)}\n",
    "      }\n",
    "\n",
    "      # # Set up search algorithm. Here we use Optuna and use the default the Bayesian sampler (i.e. TPES)\n",
    "      optuna = OptunaSearch(metric=param_space['params']['eval_metric'], \n",
    "                            mode=\"min\")\n",
    "\n",
    "      with mlflow.start_run() as run:\n",
    "      # Set up Tuner job and run.\n",
    "        tuner = tune.Tuner(\n",
    "          tune.with_parameters(train_driver_fn,\n",
    "                              train_dataset = train_dataset,\n",
    "                              val_dataset = val_dataset),\n",
    "          run_config=tune.RunConfig(name='test_run',\n",
    "                                      storage_path = '/Volumes/main/ray_gtm_examples/ray_data_tmp_dir',\n",
    "                                      callbacks=[MLflowLoggerCallback(\n",
    "                                      save_artifact=True,\n",
    "                                      tags={\"mlflow.parentRunId\": run.info.run_id},\n",
    "                                      log_params_on_trial_end=True)]\n",
    "                                      ),\n",
    "          tune_config=tune.TuneConfig(num_samples=num_hpo_trials,\n",
    "                                      max_concurrent_trials=max_concurrent_trials,\n",
    "                                      search_alg=optuna,\n",
    "                                      ),\n",
    "          param_space=param_space,\n",
    "\n",
    "          )\n",
    "\n",
    "        results = tuner.fit()\n",
    "        best_params = results.get_best_result(metric=param_space['params']['eval_metric'], \n",
    "                            mode=\"min\").config\n",
    "\n",
    "        return results"
   ]
  },
  {
   "cell_type": "markdown",
   "metadata": {
    "application/vnd.databricks.v1+cell": {
     "cellMetadata": {
      "byteLimit": 2048000,
      "rowLimit": 10000
     },
     "inputWidgets": {},
     "nuid": "ffee695c-a78f-4bed-8363-c181e42efa07",
     "showTitle": false,
     "tableResultSettingsMap": {},
     "title": ""
    }
   },
   "source": [
    "## Step 7: Execute Distributed Training\n",
    "\n",
    "Launch the distributed XGBoost training with hyperparameter optimization using Serverless GPU compute.\n"
   ]
  },
  {
   "cell_type": "code",
   "execution_count": 0,
   "metadata": {
    "application/vnd.databricks.v1+cell": {
     "cellMetadata": {
      "byteLimit": 2048000,
      "rowLimit": 10000
     },
     "inputWidgets": {},
     "nuid": "b014a996-b6e7-4721-82bf-d38b40899866",
     "showTitle": false,
     "tableResultSettingsMap": {},
     "title": ""
    }
   },
   "outputs": [],
   "source": [
    "from serverless_gpu.ray import ray_launch \n",
    "\n",
    "@ray_launch(gpus=8, gpu_type='A10', remote=True)\n",
    "def my_ray_function():\n",
    "    runner = TaskRunner.remote()\n",
    "    return ray.get(runner.run.remote())\n",
    "\n",
    "results = my_ray_function.distributed()"
   ]
  },
  {
   "cell_type": "markdown",
   "metadata": {
    "application/vnd.databricks.v1+cell": {
     "cellMetadata": {
      "byteLimit": 2048000,
      "rowLimit": 10000
     },
     "inputWidgets": {},
     "nuid": "21007722-962a-4bdb-b911-259b96cd604f",
     "showTitle": false,
     "tableResultSettingsMap": {},
     "title": ""
    }
   },
   "source": [
    "## Step 8: Model Registration and Inference\n",
    "\n",
    "Register the best model with MLflow and demonstrate inference capabilities.\n"
   ]
  },
  {
   "cell_type": "markdown",
   "metadata": {
    "application/vnd.databricks.v1+cell": {
     "cellMetadata": {
      "byteLimit": 2048000,
      "rowLimit": 10000
     },
     "inputWidgets": {},
     "nuid": "79850853-0ddc-4a64-9edc-db48e7873c25",
     "showTitle": false,
     "tableResultSettingsMap": {},
     "title": ""
    }
   },
   "source": [
    "### Log and Register model to MLflow for inference"
   ]
  },
  {
   "cell_type": "code",
   "execution_count": 0,
   "metadata": {
    "application/vnd.databricks.v1+cell": {
     "cellMetadata": {
      "byteLimit": 2048000,
      "rowLimit": 10000
     },
     "inputWidgets": {},
     "nuid": "857e488f-40ce-4bd9-aba2-713073f1e876",
     "showTitle": false,
     "tableResultSettingsMap": {},
     "title": ""
    }
   },
   "outputs": [],
   "source": [
    "notebook_name = dbutils.notebook.entry_point.getDbutils().notebook().getContext().notebookPath().get().split(\"/\")[-1]\n",
    "username = dbutils.notebook.entry_point.getDbutils().notebook().getContext().notebookPath().get().split(\"/\")[2]"
   ]
  },
  {
   "cell_type": "code",
   "execution_count": 0,
   "metadata": {
    "application/vnd.databricks.v1+cell": {
     "cellMetadata": {
      "byteLimit": 2048000,
      "rowLimit": 10000
     },
     "inputWidgets": {},
     "nuid": "5b2e0eff-66f1-47ea-add6-e405de596acd",
     "showTitle": false,
     "tableResultSettingsMap": {},
     "title": ""
    }
   },
   "outputs": [],
   "source": [
    "import mlflow\n",
    "\n",
    "def get_run_id_by_tag(experiment_name, tag_key, tag_value):\n",
    "    client = mlflow.tracking.MlflowClient()\n",
    "    experiment = client.get_experiment_by_name(experiment_name)\n",
    "    if experiment:\n",
    "        runs = client.search_runs(\n",
    "            experiment_ids=[experiment.experiment_id],\n",
    "            filter_string=f\"tags.{tag_key} = '{tag_value}'\"\n",
    "        )\n",
    "        if runs:\n",
    "            return runs[0].info.run_id\n",
    "    return None\n",
    "\n",
    "client = mlflow.tracking.MlflowClient()\n",
    "experiment = client.get_experiment_by_name(f\"/Users/{username}/{notebook_name}\")\n",
    "latest_run = None\n",
    "if experiment:\n",
    "    runs = client.search_runs(\n",
    "        experiment_ids=[experiment.experiment_id],\n",
    "        filter_string='attributes.run_name LIKE \"jobTaskRun%\"',\n",
    "        order_by=[\"attributes.start_time DESC\"],\n",
    "        max_results=1\n",
    "    )\n",
    "    if runs:\n",
    "        latest_run = runs[0]\n",
    "run_id = latest_run.info.run_id"
   ]
  },
  {
   "cell_type": "code",
   "execution_count": 0,
   "metadata": {
    "application/vnd.databricks.v1+cell": {
     "cellMetadata": {
      "byteLimit": 2048000,
      "rowLimit": 10000
     },
     "inputWidgets": {},
     "nuid": "f40c8889-fde2-4b6b-86ba-15d8da18180c",
     "showTitle": false,
     "tableResultSettingsMap": {},
     "title": ""
    }
   },
   "outputs": [],
   "source": [
    "results = results[0] if type(results) == list else results\n",
    "best_params = results.get_best_result(metric=\"mlogloss\", \n",
    "                    mode=\"min\")\n",
    "booster = RayTrainReportCallback.get_model(best_params.checkpoint)\n",
    "\n",
    "\n",
    "# Configure MLflow to use Unity Catalog\n",
    "mlflow.set_registry_uri(\"databricks-uc\")\n",
    "\n",
    "# Sample Data\n",
    "sample_data = spark.read.table(f\"{catalog_name}.{schema_name}.{table}\").limit(5).toPandas()\n",
    "\n",
    "with mlflow.start_run(run_id=run_id) as run:\n",
    "    logged_model = mlflow.xgboost.log_model(\n",
    "        booster, \n",
    "        \"model\",\n",
    "        input_example=sample_data[[col for col in sample_data.columns if col != 'target']])"
   ]
  },
  {
   "cell_type": "code",
   "execution_count": 0,
   "metadata": {
    "application/vnd.databricks.v1+cell": {
     "cellMetadata": {
      "byteLimit": 2048000,
      "rowLimit": 10000
     },
     "inputWidgets": {},
     "nuid": "ddb49db1-b76a-490d-b1cd-5027284ea611",
     "showTitle": false,
     "tableResultSettingsMap": {},
     "title": ""
    }
   },
   "outputs": [],
   "source": [
    "# Load the registered model and make predictions\n",
    "loaded_model = mlflow.pyfunc.load_model(logged_model.model_uri)\n",
    "\n",
    "# Make predictions on sample data\n",
    "predictions = loaded_model.predict(sample_data[[col for col in sample_data.columns if col != 'target']])\n",
    "print(f\"Predictions: {predictions}\")\n",
    "print(f\"Prediction shape: {predictions.shape}\")"
   ]
  },
  {
   "cell_type": "markdown",
   "metadata": {
    "application/vnd.databricks.v1+cell": {
     "cellMetadata": {
      "byteLimit": 2048000,
      "rowLimit": 10000
     },
     "inputWidgets": {},
     "nuid": "9baed534-220d-445a-a637-013420a59fb1",
     "showTitle": false,
     "tableResultSettingsMap": {},
     "title": ""
    }
   },
   "source": [
    "## Summary and Next Steps\n",
    "\n",
    "### What We Accomplished\n",
    "\n",
    "This notebook demonstrated a complete end-to-end distributed machine learning pipeline:\n",
    "\n",
    "1. **Dataset Loading**: Successfully loaded 30M synthetic records using Ray Datasets\n",
    "2. **Distributed Training**: Trained XGBoost models across multiple GPU workers\n",
    "3. **Hyperparameter Optimization**: Used Ray Tune with Optuna for automated HPO\n",
    "4. **Model Registration**: Registered the best model with MLflow for production use\n",
    "5. **Inference**: Demonstrated model loading and prediction capabilities\n",
    "\n",
    "### Key Technologies Used\n",
    "\n",
    "- **Ray**: Distributed computing framework for scalable ML\n",
    "- **XGBoost**: Gradient boosting with GPU acceleration\n",
    "- **Serverless GPU**: On-demand GPU compute without infrastructure management\n",
    "- **MLflow**: Model lifecycle management and experiment tracking\n",
    "- **Unity Catalog**: Data governance and access control\n",
    "\n",
    "### Performance Benefits\n",
    "\n",
    "- **Scalability**: Handle datasets from 30M to 1B+ rows\n",
    "- **Cost Efficiency**: Pay-per-second billing with automatic resource cleanup\n",
    "- **Speed**: Multi-GPU training reduces training time significantly\n",
    "- **Reliability**: Built-in fault tolerance and checkpointing\n",
    "\n",
    "\n",
    "### Additional Resources\n",
    "\n",
    "- [Ray Documentation](https://docs.ray.io/)\n",
    "- [XGBoost Documentation](https://xgboost.readthedocs.io/)\n",
    "- [MLflow Documentation](https://mlflow.org/docs/)\n",
    "- [Databricks Serverless GPU](https://docs.databricks.com/en/compute/serverless/gpu.html)\n"
   ]
  },
  {
   "cell_type": "code",
   "execution_count": 0,
   "metadata": {
    "application/vnd.databricks.v1+cell": {
     "cellMetadata": {
      "byteLimit": 2048000,
      "rowLimit": 10000
     },
     "inputWidgets": {},
     "nuid": "a51d3089-d83e-4905-aa63-b04525413059",
     "showTitle": false,
     "tableResultSettingsMap": {},
     "title": ""
    }
   },
   "outputs": [],
   "source": []
  }
 ],
 "metadata": {
  "application/vnd.databricks.v1+notebook": {
   "computePreferences": {
    "hardware": {
     "accelerator": "A10",
     "gpuPoolId": null,
     "memory": null
    }
   },
   "dashboards": [],
   "environmentMetadata": {
    "base_environment": "",
    "environment_version": "3"
   },
   "inputWidgetPreferences": null,
   "language": "python",
   "notebookMetadata": {
    "mostRecentlyExecutedCommandWithImplicitDF": {
     "commandId": 3397375242701867,
     "dataframes": [
      "_sqldf"
     ]
    },
    "pythonIndentUnit": 2
   },
   "notebookName": "01c-train-with-serverless-GPUs-Out-of-Core",
   "widgets": {
    "catalog_name": {
     "currentValue": "main",
     "nuid": "2ce4b62a-ab0d-46c7-b31f-3394a3ab6341",
     "typedWidgetInfo": {
      "autoCreated": false,
      "defaultValue": "main",
      "label": "Unity Catalog Name",
      "name": "catalog_name",
      "options": {
       "widgetDisplayType": "Text",
       "validationRegex": null
      },
      "parameterDataType": "String"
     },
     "widgetInfo": {
      "widgetType": "text",
      "defaultValue": "main",
      "label": "Unity Catalog Name",
      "name": "catalog_name",
      "options": {
       "widgetType": "text",
       "autoCreated": null,
       "validationRegex": null
      }
     }
    },
    "num_labels": {
     "currentValue": "2",
     "nuid": "4b5dc790-27ff-48e7-bbb7-e413f0ff955f",
     "typedWidgetInfo": {
      "autoCreated": false,
      "defaultValue": "2",
      "label": "number of labels in the target column",
      "name": "num_labels",
      "options": {
       "widgetDisplayType": "Text",
       "validationRegex": null
      },
      "parameterDataType": "String"
     },
     "widgetInfo": {
      "widgetType": "text",
      "defaultValue": "2",
      "label": "number of labels in the target column",
      "name": "num_labels",
      "options": {
       "widgetType": "text",
       "autoCreated": null,
       "validationRegex": null
      }
     }
    },
    "num_training_columns": {
     "currentValue": "100",
     "nuid": "470cf442-ad29-4f89-ba5a-25be9f90a85a",
     "typedWidgetInfo": {
      "autoCreated": false,
      "defaultValue": "100",
      "label": "number of feature columns",
      "name": "num_training_columns",
      "options": {
       "widgetDisplayType": "Text",
       "validationRegex": null
      },
      "parameterDataType": "String"
     },
     "widgetInfo": {
      "widgetType": "text",
      "defaultValue": "100",
      "label": "number of feature columns",
      "name": "num_training_columns",
      "options": {
       "widgetType": "text",
       "autoCreated": null,
       "validationRegex": null
      }
     }
    },
    "num_training_rows": {
     "currentValue": "30000000",
     "nuid": "22dbd739-cd2f-4573-96f7-c6f8cd0e1fa0",
     "typedWidgetInfo": {
      "autoCreated": false,
      "defaultValue": "30000000",
      "label": "rows of data to generate",
      "name": "num_training_rows",
      "options": {
       "widgetDisplayType": "Text",
       "validationRegex": null
      },
      "parameterDataType": "String"
     },
     "widgetInfo": {
      "widgetType": "text",
      "defaultValue": "30000000",
      "label": "rows of data to generate",
      "name": "num_training_rows",
      "options": {
       "widgetType": "text",
       "autoCreated": null,
       "validationRegex": null
      }
     }
    },
    "schema_name": {
     "currentValue": "ray_gtm_examples",
     "nuid": "d3e35f20-dcce-4f40-9790-9b9f40c34232",
     "typedWidgetInfo": {
      "autoCreated": false,
      "defaultValue": "ray_gtm_examples",
      "label": "Unity Catalog Schema Name",
      "name": "schema_name",
      "options": {
       "widgetDisplayType": "Text",
       "validationRegex": null
      },
      "parameterDataType": "String"
     },
     "widgetInfo": {
      "widgetType": "text",
      "defaultValue": "ray_gtm_examples",
      "label": "Unity Catalog Schema Name",
      "name": "schema_name",
      "options": {
       "widgetType": "text",
       "autoCreated": null,
       "validationRegex": null
      }
     }
    },
    "warehouse_id": {
     "currentValue": "8baced1ff014912d",
     "nuid": "0a7c0b16-4f8c-4d91-97e9-39438e9dd5ca",
     "typedWidgetInfo": {
      "autoCreated": false,
      "defaultValue": "8baced1ff014912d",
      "label": "ID of warehouse to use",
      "name": "warehouse_id",
      "options": {
       "widgetDisplayType": "Text",
       "validationRegex": null
      },
      "parameterDataType": "String"
     },
     "widgetInfo": {
      "widgetType": "text",
      "defaultValue": "8baced1ff014912d",
      "label": "ID of warehouse to use",
      "name": "warehouse_id",
      "options": {
       "widgetType": "text",
       "autoCreated": null,
       "validationRegex": null
      }
     }
    }
   }
  },
  "language_info": {
   "name": "python"
  }
 },
 "nbformat": 4,
 "nbformat_minor": 0
}
