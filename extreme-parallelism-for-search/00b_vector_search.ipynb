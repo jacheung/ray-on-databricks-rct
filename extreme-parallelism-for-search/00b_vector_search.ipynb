{
 "cells": [
  {
   "cell_type": "code",
   "execution_count": 0,
   "metadata": {
    "application/vnd.databricks.v1+cell": {
     "cellMetadata": {},
     "inputWidgets": {},
     "nuid": "68eddff3-cbb5-4ebd-8dca-d124e46eb681",
     "showTitle": false,
     "tableResultSettingsMap": {},
     "title": ""
    }
   },
   "outputs": [],
   "source": [
    "source_table_name = 'jonathan_mcfadden.vizio_poc.audio_test'"
   ]
  },
  {
   "cell_type": "code",
   "execution_count": 0,
   "metadata": {
    "application/vnd.databricks.v1+cell": {
     "cellMetadata": {},
     "inputWidgets": {},
     "nuid": "d2b8ab9e-1436-4c6a-b10b-ad60162c0f57",
     "showTitle": false,
     "tableResultSettingsMap": {},
     "title": ""
    }
   },
   "outputs": [],
   "source": [
    "client = VectorSearchClient()\n",
    "\n",
    "index = client.create_delta_sync_index(\n",
    "  endpoint_name=\"vector_search_vizio_3B\",\n",
    "  source_table_name=source_table_name,\n",
    "  index_name=\"vector_search_demo.vector_search.en_wiki_index\",\n",
    "  pipeline_type=\"TRIGGERED\",\n",
    "  primary_key=\"id\",\n",
    "  embedding_dimension=1024,\n",
    "  embedding_vector_column=\"text_vector\"\n",
    ")"
   ]
  }
 ],
 "metadata": {
  "application/vnd.databricks.v1+notebook": {
   "computePreferences": null,
   "dashboards": [],
   "environmentMetadata": {
    "base_environment": "",
    "environment_version": "2"
   },
   "inputWidgetPreferences": null,
   "language": "python",
   "notebookMetadata": {
    "pythonIndentUnit": 2
   },
   "notebookName": "00b_vector_search",
   "widgets": {}
  },
  "language_info": {
   "name": "python"
  }
 },
 "nbformat": 4,
 "nbformat_minor": 0
}
