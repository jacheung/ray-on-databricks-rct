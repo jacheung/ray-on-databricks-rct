{
 "cells": [
  {
   "cell_type": "code",
   "execution_count": 0,
   "metadata": {
    "application/vnd.databricks.v1+cell": {
     "cellMetadata": {
      "byteLimit": 2048000,
      "rowLimit": 10000
     },
     "inputWidgets": {},
     "nuid": "a5234daf-7bc8-4472-bba4-f316333ee829",
     "showTitle": false,
     "tableResultSettingsMap": {},
     "title": ""
    }
   },
   "outputs": [],
   "source": [
    "catalog_name = 'jon_cheung'\n",
    "schema_name = 'vizio_poc'\n",
    "vectors_per_shard= 100_000_000\n",
    "\n",
    "base_num = vectors_per_shard // 1_000_000\n",
    "base_string = str(base_num) + 'M'"
   ]
  },
  {
   "cell_type": "code",
   "execution_count": 0,
   "metadata": {
    "application/vnd.databricks.v1+cell": {
     "cellMetadata": {
      "byteLimit": 2048000,
      "rowLimit": 10000
     },
     "inputWidgets": {},
     "nuid": "e064289d-be54-42fb-8abe-7ae9122ca783",
     "showTitle": false,
     "tableResultSettingsMap": {},
     "title": ""
    }
   },
   "outputs": [],
   "source": [
    "# Create chunked data\n",
    "sdf = spark.read.table('jonathan_mcfadden.vizio_poc.audio_test').select(\"id\", \"list_col\")\n",
    "num_chunks = (sdf.count() + vectors_per_shard - 1) // vectors_per_shard\n",
    "chunks = [sdf.filter((sdf.id >= i * vectors_per_shard) & (sdf.id < (i + 1) * vectors_per_shard)) for i in range(num_chunks)]"
   ]
  },
  {
   "cell_type": "code",
   "execution_count": 0,
   "metadata": {
    "application/vnd.databricks.v1+cell": {
     "cellMetadata": {
      "byteLimit": 2048000,
      "rowLimit": 10000
     },
     "inputWidgets": {},
     "nuid": "51812883-47b4-4279-9ed4-35e3a4e3f039",
     "showTitle": false,
     "tableResultSettingsMap": {},
     "title": ""
    }
   },
   "outputs": [],
   "source": [
    "import os\n",
    "from databricks.sdk import WorkspaceClient\n",
    "from databricks.sdk.service import catalog\n",
    "\n",
    "w = WorkspaceClient()\n",
    "\n",
    "for shard_number, shard_name in enumerate([f'audio_{base_string}_chunk_shard_{value}' for value in range(1, int(num_chunks)+1)]):\n",
    "  \n",
    "  parquet_write_path = f'/Volumes/{catalog_name}/{schema_name}/{shard_name}'\n",
    "  # Create a volume for the shard if that doesn't exist\n",
    "  if not os.path.exists(parquet_write_path):\n",
    "    created_volume = w.volumes.create(catalog_name=catalog_name,\n",
    "                                      schema_name=schema_name,\n",
    "                                      name=shard_name,\n",
    "                                      volume_type=catalog.VolumeType.MANAGED\n",
    "                                      )\n",
    "  else:\n",
    "    print(f\"Volume {shard_name} already exists\")\n",
    "  \n",
    "  # Populate the volume with parquet if it doesn't exist. We write to parquet because LanceDB doesn't support Spark DataFrames yet. \n",
    "  if not os.listdir(parquet_write_path):\n",
    "    chunks[shard_number].write.mode('overwrite').parquet(parquet_write_path)\n",
    "  else:\n",
    "    print(f\"Parquet directory {parquet_write_path} already has data in it.\")\n"
   ]
  }
 ],
 "metadata": {
  "application/vnd.databricks.v1+notebook": {
   "computePreferences": null,
   "dashboards": [],
   "environmentMetadata": {
    "base_environment": "",
    "environment_version": "2"
   },
   "inputWidgetPreferences": null,
   "language": "python",
   "notebookMetadata": {
    "mostRecentlyExecutedCommandWithImplicitDF": {
     "commandId": 3233564153388892,
     "dataframes": [
      "_sqldf"
     ]
    },
    "pythonIndentUnit": 2
   },
   "notebookName": "00a_shard_data_preparation",
   "widgets": {
    "table_name": {
     "currentValue": "shard_1_size_100M",
     "nuid": "9db8cec7-8f79-419d-90a1-bc8135989ab6",
     "typedWidgetInfo": {
      "autoCreated": false,
      "defaultValue": "shard_1_size_100M",
      "label": null,
      "name": "table_name",
      "options": {
       "widgetDisplayType": "Dropdown",
       "choices": [
        "shard_1_size_100M",
        "shard_2_size_100M",
        "shard_3_size_100M",
        "shard_4_size_100M",
        "shard_5_size_100M",
        "shard_6_size_100M",
        "shard_7_size_100M",
        "shard_8_size_100M",
        "shard_9_size_100M",
        "shard_10_size_100M",
        "shard_11_size_100M",
        "shard_12_size_100M",
        "shard_13_size_100M",
        "shard_14_size_100M",
        "shard_15_size_100M",
        "shard_16_size_100M",
        "shard_17_size_100M",
        "shard_18_size_100M",
        "shard_19_size_100M",
        "shard_20_size_100M",
        "shard_21_size_100M",
        "shard_22_size_100M",
        "shard_23_size_100M",
        "shard_24_size_100M",
        "shard_25_size_100M",
        "shard_26_size_100M",
        "shard_27_size_100M",
        "shard_28_size_100M",
        "shard_29_size_100M"
       ],
       "fixedDomain": true,
       "multiselect": false
      },
      "parameterDataType": "String"
     },
     "widgetInfo": {
      "widgetType": "dropdown",
      "defaultValue": "shard_1_size_100M",
      "label": null,
      "name": "table_name",
      "options": {
       "widgetType": "dropdown",
       "autoCreated": false,
       "choices": [
        "shard_1_size_100M",
        "shard_2_size_100M",
        "shard_3_size_100M",
        "shard_4_size_100M",
        "shard_5_size_100M",
        "shard_6_size_100M",
        "shard_7_size_100M",
        "shard_8_size_100M",
        "shard_9_size_100M",
        "shard_10_size_100M",
        "shard_11_size_100M",
        "shard_12_size_100M",
        "shard_13_size_100M",
        "shard_14_size_100M",
        "shard_15_size_100M",
        "shard_16_size_100M",
        "shard_17_size_100M",
        "shard_18_size_100M",
        "shard_19_size_100M",
        "shard_20_size_100M",
        "shard_21_size_100M",
        "shard_22_size_100M",
        "shard_23_size_100M",
        "shard_24_size_100M",
        "shard_25_size_100M",
        "shard_26_size_100M",
        "shard_27_size_100M",
        "shard_28_size_100M",
        "shard_29_size_100M"
       ]
      }
     }
    }
   }
  },
  "language_info": {
   "name": "python"
  }
 },
 "nbformat": 4,
 "nbformat_minor": 0
}
