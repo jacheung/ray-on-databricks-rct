{
 "cells": [
  {
   "cell_type": "code",
   "execution_count": 0,
   "metadata": {
    "application/vnd.databricks.v1+cell": {
     "cellMetadata": {
      "byteLimit": 2048000,
      "rowLimit": 10000
     },
     "inputWidgets": {},
     "nuid": "3a95ef79-ebb7-4a3f-98db-904ec38eb66f",
     "showTitle": false,
     "tableResultSettingsMap": {},
     "title": ""
    }
   },
   "outputs": [],
   "source": [
    "%pip install dbldatagen"
   ]
  },
  {
   "cell_type": "code",
   "execution_count": 0,
   "metadata": {
    "application/vnd.databricks.v1+cell": {
     "cellMetadata": {
      "byteLimit": 2048000,
      "rowLimit": 10000
     },
     "inputWidgets": {},
     "nuid": "713a6530-7daa-42d1-b70f-3eef1092cff7",
     "showTitle": false,
     "tableResultSettingsMap": {},
     "title": ""
    }
   },
   "outputs": [],
   "source": [
    "import datetime\n",
    "start_time = datetime.datetime(2000, 1, 1, 0, 0, 0)\n",
    "end_time = start_time + datetime.timedelta(hours=100)\n",
    "end_time"
   ]
  },
  {
   "cell_type": "code",
   "execution_count": 0,
   "metadata": {
    "application/vnd.databricks.v1+cell": {
     "cellMetadata": {
      "byteLimit": 2048000,
      "rowLimit": 10000
     },
     "inputWidgets": {},
     "nuid": "0b287eb4-2738-4eea-bbce-2eefafd13561",
     "showTitle": false,
     "tableResultSettingsMap": {},
     "title": ""
    }
   },
   "outputs": [],
   "source": [
    "[f\"group_{i}\" for i in range(1, partitions+1)]"
   ]
  },
  {
   "cell_type": "code",
   "execution_count": 0,
   "metadata": {
    "application/vnd.databricks.v1+cell": {
     "cellMetadata": {
      "byteLimit": 2048000,
      "rowLimit": 10000
     },
     "inputWidgets": {},
     "nuid": "c8c10410-100d-4e38-a899-6b9a22b61565",
     "showTitle": false,
     "tableResultSettingsMap": {},
     "title": ""
    }
   },
   "outputs": [],
   "source": [
    "import dbldatagen as dg\n",
    "from pyspark.sql.types import StringType, TimestampType, IntegerType\n",
    "\n",
    "# Define the number of rows and partitions\n",
    "total_rows = 50 * 100  # Total rows = groups * rows per group\n",
    "partitions = 50  # Adjust partitions based on cluster size for performanc\n",
    "\n",
    "\n",
    "# Create the data generator specification\n",
    "# time specification\n",
    "timepoints_per_group = 100\n",
    "start_time = datetime.datetime(2000, 1, 1, 0, 0, 0)\n",
    "end_time = start_time + datetime.timedelta(hours=timepoints_per_group)\n",
    "\n",
    "group_name = \"group_1\"\n",
    "data_spec = (\n",
    "    dg.DataGenerator(spark, name=\"synthetic_data\", rows=timepoints_per_group)\n",
    "    .withColumn(\"group_name\", StringType(), values=[group_name])\n",
    "    .withColumn(\"ds\", TimestampType(), begin=start_time, end=end_time, interval='1 hour')\n",
    "    .withColumn(\"y\", IntegerType(), minValue=0, maxValue=1000, random=True)\n",
    ")\n",
    "\n",
    "df = data_spec.build()\n",
    "\n",
    "# Show a sample of the generated data\n",
    "df.show(10)\n"
   ]
  },
  {
   "cell_type": "code",
   "execution_count": 0,
   "metadata": {
    "application/vnd.databricks.v1+cell": {
     "cellMetadata": {
      "byteLimit": 2048000,
      "rowLimit": 10000
     },
     "inputWidgets": {},
     "nuid": "a939fb8c-33ac-4ad3-a6dd-05059e9d0f07",
     "showTitle": false,
     "tableResultSettingsMap": {},
     "title": ""
    }
   },
   "outputs": [],
   "source": [
    "timepoints_per_group = 1000\n",
    "\n",
    "result = [[f\"group_{i}\"] * timepoints_per_group for i in range(1, 50_001)]\n",
    "\n"
   ]
  },
  {
   "cell_type": "code",
   "execution_count": 0,
   "metadata": {
    "application/vnd.databricks.v1+cell": {
     "cellMetadata": {},
     "inputWidgets": {},
     "nuid": "6ffc4622-b1ef-44dc-8024-440748f81f87",
     "showTitle": false,
     "tableResultSettingsMap": {},
     "title": ""
    }
   },
   "outputs": [],
   "source": [
    "import dbldatagen as dg\n",
    "from pyspark.sql.types import StringType, TimestampType, IntegerType\n",
    "\n",
    "# Define the number of rows and partitions\n",
    "total_rows = 50_000 * 10_000  # Total rows = groups * rows per group\n",
    "partitions = 50  # Adjust partitions based on cluster size for performanc\n",
    "\n",
    "start_time = datetime.datetime(2000, 1, 1, 0, 0, 0)\n",
    "end_time = start_time + datetime.timedelta(hours=1000)\n",
    "\n",
    "# Create the data generator specification\n",
    "data_spec = (\n",
    "    dg.DataGenerator(spark, name=\"synthetic_data\", rows=total_rows, partitions=partitions)\n",
    "    .withColumn(\"group_name\", StringType(), values=[f\"group_{i}\" for i in range(1, 50_001)], random=True)\n",
    "    ..withColumn(\"ds\", TimestampType(), begin=start_time, end=end_time, interval='1 hour')\n",
    "    .withColumn(\"y\", IntegerType(), minValue=0, maxValue=1000, random=True)\n",
    ")\n",
    "\n",
    "# Generate the DataFrame\n",
    "df = data_spec.build()\n",
    "\n",
    "# Show a sample of the generated data\n",
    "df.show(10)"
   ]
  }
 ],
 "metadata": {
  "application/vnd.databricks.v1+notebook": {
   "computePreferences": null,
   "dashboards": [],
   "environmentMetadata": {
    "base_environment": "",
    "environment_version": "2"
   },
   "inputWidgetPreferences": null,
   "language": "python",
   "notebookMetadata": {
    "pythonIndentUnit": 2
   },
   "notebookName": "Untitled Notebook 2025-04-02 11_40_35",
   "widgets": {}
  },
  "language_info": {
   "name": "python"
  }
 },
 "nbformat": 4,
 "nbformat_minor": 0
}
