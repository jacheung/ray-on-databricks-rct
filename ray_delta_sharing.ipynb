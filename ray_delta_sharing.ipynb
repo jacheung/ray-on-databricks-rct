{
 "cells": [
  {
   "cell_type": "code",
   "execution_count": 0,
   "metadata": {
    "application/vnd.databricks.v1+cell": {
     "cellMetadata": {
      "byteLimit": 2048000,
      "rowLimit": 10000
     },
     "inputWidgets": {},
     "nuid": "be7dd667-e977-4afd-9c2d-72b5e685dc92",
     "showTitle": false,
     "tableResultSettingsMap": {},
     "title": ""
    }
   },
   "outputs": [],
   "source": [
    "%pip install delta-sharing ray[data] ray[default]\n",
    "dbutils.library.restartPython()"
   ]
  },
  {
   "cell_type": "code",
   "execution_count": 0,
   "metadata": {
    "application/vnd.databricks.v1+cell": {
     "cellMetadata": {
      "byteLimit": 2048000,
      "implicitDf": true,
      "rowLimit": 10000
     },
     "inputWidgets": {},
     "nuid": "2d554881-cc0d-4feb-bc32-56f2a3996faa",
     "showTitle": false,
     "tableResultSettingsMap": {},
     "title": ""
    }
   },
   "outputs": [],
   "source": [
    "%sql\n",
    "ALTER TABLE main.ray_gtm_examples.data_synthetic_timeseries_1000_groups SET TBLPROPERTIES ('delta.enableDeletionVectors' = false);"
   ]
  },
  {
   "cell_type": "code",
   "execution_count": 0,
   "metadata": {
    "application/vnd.databricks.v1+cell": {
     "cellMetadata": {
      "byteLimit": 2048000,
      "rowLimit": 10000
     },
     "inputWidgets": {},
     "nuid": "e44da3ec-bb93-49d1-929e-85c3ba8806c2",
     "showTitle": false,
     "tableResultSettingsMap": {},
     "title": ""
    }
   },
   "outputs": [],
   "source": [
    "import delta_sharing\n",
    "\n",
    "# Point to the profile file. It can be a file on the local file system or a file on a remote storage.\n",
    "# Profile generated from Recipient > Open Share > Token\n",
    "profile_file = \"config.share\"\n",
    "SHARE_NAME = 'internal-ray-share'\n",
    "SHARE_SCHEMA = 'ray_gtm_examples'\n",
    "SHARE_TABLE = 'data_synthetic_timeseries_1000_groups'\n",
    "table_url = f\"{profile_file}#{SHARE_NAME}.{SHARE_SCHEMA}.{SHARE_TABLE}\"\n",
    "\n",
    "delta_sharing.load_as_pandas(table_url, limit=10)"
   ]
  },
  {
   "cell_type": "code",
   "execution_count": 0,
   "metadata": {
    "application/vnd.databricks.v1+cell": {
     "cellMetadata": {
      "byteLimit": 2048000,
      "rowLimit": 10000
     },
     "inputWidgets": {},
     "nuid": "c08a9ccd-133c-42a4-9213-c31cd65d8a30",
     "showTitle": false,
     "tableResultSettingsMap": {},
     "title": ""
    }
   },
   "outputs": [],
   "source": [
    "import ray\n",
    "from ray.util.spark import setup_ray_cluster, shutdown_ray_cluster\n",
    "\n",
    "restart = True\n",
    "if restart is True:\n",
    "  try:\n",
    "    shutdown_ray_cluster()\n",
    "  except:\n",
    "    pass\n",
    "  try:\n",
    "    ray.shutdown()\n",
    "  except:\n",
    "    pass\n",
    "\n",
    "# The below configuration mirrors my Spark worker cluster set up. Change this to match your cluster configuration. \n",
    "setup_ray_cluster(\n",
    "  min_worker_nodes=2,\n",
    "  max_worker_nodes=8,\n",
    "  num_cpus_per_node=16,\n",
    "  num_gpus_worker_node=0,\n",
    "  collect_log_to_path=\"/dbfs/Users/jon.cheung@databricks.com/ray_collected_logs\"\n",
    ")"
   ]
  },
  {
   "cell_type": "code",
   "execution_count": 0,
   "metadata": {
    "application/vnd.databricks.v1+cell": {
     "cellMetadata": {
      "byteLimit": 2048000,
      "rowLimit": 10000
     },
     "inputWidgets": {},
     "nuid": "6398ec86-1a16-454a-ad9d-d675cd047b01",
     "showTitle": false,
     "tableResultSettingsMap": {},
     "title": ""
    }
   },
   "outputs": [],
   "source": [
    "import ray\n",
    "\n",
    "profile_file = \"config.share\"\n",
    "SHARE_NAME = 'internal-ray-share'\n",
    "SHARE_SCHEMA = 'ray_gtm_examples'\n",
    "SHARE_TABLE = 'data_synthetic_timeseries_1000_groups'\n",
    "table_url = f\"{profile_file}#{SHARE_NAME}.{SHARE_SCHEMA}.{SHARE_TABLE}\"\n",
    "\n",
    "ds = ray.data.read_delta_sharing_tables(\n",
    "    url=table_url\n",
    ")\n",
    "\n",
    "ds"
   ]
  },
  {
   "cell_type": "code",
   "execution_count": 0,
   "metadata": {
    "application/vnd.databricks.v1+cell": {
     "cellMetadata": {
      "byteLimit": 2048000,
      "rowLimit": 10000
     },
     "inputWidgets": {},
     "nuid": "3c2b049f-8b2d-47e9-b5d4-04c9fcf4f121",
     "showTitle": false,
     "tableResultSettingsMap": {},
     "title": ""
    }
   },
   "outputs": [],
   "source": [
    "\"your-profile.json#your-share-name.your-schema-name.your-table-name\",\n",
    "table_url"
   ]
  }
 ],
 "metadata": {
  "application/vnd.databricks.v1+notebook": {
   "computePreferences": null,
   "dashboards": [],
   "environmentMetadata": {
    "base_environment": "",
    "environment_version": "2"
   },
   "inputWidgetPreferences": null,
   "language": "python",
   "notebookMetadata": {
    "mostRecentlyExecutedCommandWithImplicitDF": {
     "commandId": 3667638036613852,
     "dataframes": [
      "_sqldf"
     ]
    },
    "pythonIndentUnit": 2
   },
   "notebookName": "ray_delta_sharing",
   "widgets": {}
  },
  "language_info": {
   "name": "python"
  }
 },
 "nbformat": 4,
 "nbformat_minor": 0
}
