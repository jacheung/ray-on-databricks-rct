{
 "cells": [
  {
   "cell_type": "markdown",
   "metadata": {
    "application/vnd.databricks.v1+cell": {
     "cellMetadata": {},
     "inputWidgets": {},
     "nuid": "8014117d-7a8d-4e4a-bcaa-5718620d8055",
     "showTitle": false,
     "tableResultSettingsMap": {},
     "title": ""
    }
   },
   "source": [
    "### Tabular Dataset --> Ray Data (ray.data.from_spark) --> Ray Train."
   ]
  },
  {
   "cell_type": "code",
   "execution_count": 0,
   "metadata": {
    "application/vnd.databricks.v1+cell": {
     "cellMetadata": {},
     "inputWidgets": {},
     "nuid": "0bba9726-0f8b-42f8-b9cb-04cf7ca429e0",
     "showTitle": false,
     "tableResultSettingsMap": {},
     "title": ""
    }
   },
   "outputs": [],
   "source": [
    "from ray.util.spark import setup_ray_cluster, MAX_NUM_WORKER_NODES, shutdown_ray_cluster\n",
    "import ray\n",
    "\n",
    "restart = True\n",
    "if restart is True:\n",
    "  try:\n",
    "    shutdown_ray_cluster()\n",
    "  except:\n",
    "    pass\n",
    "  try:\n",
    "    ray.shutdown()\n",
    "  except:\n",
    "    pass\n",
    "\n",
    "# Ray allows you to define custom cluster configurations using setup_ray_cluster function\n",
    "# This allows you to allocate CPUs and GPUs on Ray cluster\n",
    "setup_ray_cluster(\n",
    "  min_worker_nodes=1,       # minimum number of worker nodes to start\n",
    "  max_worker_nodes=1,       # maximum number of worker nodes to start\n",
    "  num_gpus_worker_node=1,   # number of GPUs to allocate per worker node\n",
    "  num_gpus_head_node=1,     # number of GPUs to allocate on head node (driver)\n",
    "  num_cpus_worker_node=64,  # number of CPUs to allocate on worker nodes\n",
    "  num_cpus_head_node=64     # number of CPUs to allocate on head node (driver)\n",
    ")\n",
    "\n",
    "\n",
    "# Pass any custom configuration to ray.init\n",
    "ray.init(ignore_reinit_error=True)\n",
    "print(ray.cluster_resources())"
   ]
  }
 ],
 "metadata": {
  "application/vnd.databricks.v1+notebook": {
   "computePreferences": null,
   "dashboards": [],
   "environmentMetadata": {
    "base_environment": "",
    "environment_version": "2"
   },
   "inputWidgetPreferences": null,
   "language": "python",
   "notebookMetadata": {
    "pythonIndentUnit": 2
   },
   "notebookName": "02-ray-torch-example",
   "widgets": {}
  },
  "language_info": {
   "name": "python"
  }
 },
 "nbformat": 4,
 "nbformat_minor": 0
}
