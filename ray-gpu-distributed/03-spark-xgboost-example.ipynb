{
 "cells": [
  {
   "cell_type": "code",
   "execution_count": 0,
   "metadata": {
    "application/vnd.databricks.v1+cell": {
     "cellMetadata": {
      "byteLimit": 2048000,
      "rowLimit": 10000
     },
     "inputWidgets": {},
     "nuid": "f29e8502-f4c6-43bb-b786-860803bc489f",
     "showTitle": false,
     "tableResultSettingsMap": {},
     "title": ""
    }
   },
   "outputs": [],
   "source": [
    "%pip install optuna optuna-integration # Integration with MLflo\n",
    "dbutils.library.restartPython()"
   ]
  },
  {
   "cell_type": "code",
   "execution_count": 0,
   "metadata": {
    "application/vnd.databricks.v1+cell": {
     "cellMetadata": {
      "byteLimit": 2048000,
      "rowLimit": 10000
     },
     "inputWidgets": {},
     "nuid": "73889935-9a18-4183-a85e-bce4c734653f",
     "showTitle": false,
     "tableResultSettingsMap": {},
     "title": ""
    }
   },
   "outputs": [],
   "source": [
    "dbutils.widgets.text(\"experiment_name\", \"spark_vs_ray_xgboost\", \"experiment_name\")\n",
    "experiment_name = dbutils.widgets.get(\"experiment_name\")\n",
    "print(f\"Logging to MLflow Experiment {experiment_name}\")\n",
    "\n",
    "dbutils.widgets.text(\"num_training_rows\", \"100\", \"num_training_rows\")\n",
    "num_training_rows = int(dbutils.widgets.get(\"num_training_rows\"))\n",
    "print(f\"Generating {num_training_rows} synthetic rows\")\n",
    "\n",
    "dbutils.widgets.text(\"num_training_columns\", \"1000\", \"num_training_columns\")\n",
    "num_training_columns = int(dbutils.widgets.get(\"num_training_columns\"))\n",
    "print(f\"Generating {num_training_columns} synthetic columns\")\n",
    "\n",
    "dbutils.widgets.text(\"num_labels\", \"2\", \"num_labels\")\n",
    "num_labels = int(dbutils.widgets.get(\"num_labels\"))\n",
    "print(f\"Generating {num_labels} synthetic labels\")\n",
    "\n",
    "dbutils.widgets.text(\"max_depth\", \"5\", \"max_depth\")\n",
    "max_depth = int(dbutils.widgets.get(\"max_depth\"))\n",
    "print(f\"XGBoost max_depth: {max_depth}\")\n",
    "\n",
    "dbutils.widgets.text(\"n_estimators\", \"100\", \"n_estimators\")\n",
    "n_estimators = int(dbutils.widgets.get(\"n_estimators\"))\n",
    "print(f\"XGBoost n_estimators: {n_estimators}\")\n",
    "\n",
    "concurrency = sc.defaultParallelism\n",
    "print(f\"Setting Spark.XGBoost num_workers to {concurrency} = num cores on workers in cluster\")"
   ]
  },
  {
   "cell_type": "code",
   "execution_count": 0,
   "metadata": {
    "application/vnd.databricks.v1+cell": {
     "cellMetadata": {
      "byteLimit": 2048000,
      "rowLimit": 10000
     },
     "inputWidgets": {},
     "nuid": "98e14b8a-21d2-4882-9241-bfabd8f67ceb",
     "showTitle": false,
     "tableResultSettingsMap": {},
     "title": ""
    }
   },
   "outputs": [],
   "source": [
    "\n",
    "catalog = \"main\"\n",
    "schema = \"jon_cheung\"\n",
    "\n",
    "if num_labels > 2:\n",
    "  table_path = f\"synthetic_data_{num_training_rows}_rows_{num_training_columns}_columns_{num_labels}_labels\"\n",
    "else:\n",
    "  table_path = f\"synthetic_data_{num_training_rows}_rows_{num_training_columns}_columns\"\n",
    "  \n",
    "parquet_path = f\"/Volumes/{catalog}/{schema}/synthetic_data/{table_path}\"\n",
    "print(f\"Parquet path: {parquet_path}\")"
   ]
  },
  {
   "cell_type": "code",
   "execution_count": 0,
   "metadata": {
    "application/vnd.databricks.v1+cell": {
     "cellMetadata": {
      "byteLimit": 2048000,
      "rowLimit": 10000
     },
     "inputWidgets": {},
     "nuid": "b504feca-4adc-43fc-970d-bc2877f7cad2",
     "showTitle": false,
     "tableResultSettingsMap": {},
     "title": ""
    }
   },
   "outputs": [],
   "source": [
    "sdf = spark.read.table(f'{catalog}.{schema}.{table_path}')\n",
    "\n",
    "\n",
    "feature_names = sdf.columns\n",
    "feature_names.remove('id')\n",
    "feature_names.remove('target')"
   ]
  },
  {
   "cell_type": "code",
   "execution_count": 0,
   "metadata": {
    "application/vnd.databricks.v1+cell": {
     "cellMetadata": {
      "byteLimit": 2048000,
      "rowLimit": 10000
     },
     "inputWidgets": {},
     "nuid": "43febb23-ea78-4dc8-8ba5-046ecefc1e72",
     "showTitle": false,
     "tableResultSettingsMap": {},
     "title": ""
    }
   },
   "outputs": [],
   "source": [
    "from xgboost.spark import SparkXGBClassifier\n",
    "from pyspark.ml.evaluation import MulticlassClassificationEvaluator\n",
    "from pyspark.ml.tuning import CrossValidator, ParamGridBuilder\n",
    "import optuna\n",
    "param = {\n",
    "    # 'objective': 'multi:softprob',\n",
    "    'num_class': num_labels,  # Change this to the number of classes in your dataset\n",
    "    'eval_metric': 'mlogloss',\n",
    "    # 'learning_rate': trial.suggest_float('learning_rate', 0.01, 0.3),\n",
    "    # 'max_depth': trial.suggest_int('max_depth', 3, 30),\n",
    "    # 'colsample_bytree': trial.suggest_float('colsample_bytree', 0.5, 1.0),\n",
    "    # 'subsample': trial.suggest_float('subsample', 0.5, 1.0),\n",
    "    'n_estimators': 100,\n",
    "    # 'max_delta_step': trial.suggest_int('max_delta_step', 0, 10)\n",
    "}\n",
    "\n",
    "\n",
    "\n",
    "# Initialize the GBTClassifier with parameters from Optuna\n",
    "sxgbc = SparkXGBClassifier(label_col=\"target\", features_col=feature_names, num_workers=sc.defaultParallelism, verbosity=1, device='cuda', use_gpu=True, **param) # num_workers=, \n",
    "\n",
    "# Evaluate the model using k-fold cross-validation\n",
    "evaluator = MulticlassClassificationEvaluator(labelCol=\"target\", predictionCol=\"prediction\", metricName=\"logLoss\")\n",
    "crossval = CrossValidator(estimator=sxgbc, \n",
    "                        estimatorParamMaps=ParamGridBuilder().build(), \n",
    "                        evaluator=evaluator, \n",
    "                        numFolds=5)  # k-fold cross-validation\n",
    "\n",
    "# Perform cross-validation\n",
    "cv_model = crossval.fit(sdf)\n",
    "\n",
    "# Return the average AUC from cross-validation\n",
    "avg_logloss = max(cv_model.avgMetrics)\n",
    "\n",
    "sxgbc.fit(sdf)"
   ]
  },
  {
   "cell_type": "code",
   "execution_count": 0,
   "metadata": {
    "application/vnd.databricks.v1+cell": {
     "cellMetadata": {
      "byteLimit": 2048000,
      "rowLimit": 10000
     },
     "inputWidgets": {},
     "nuid": "5522a50d-e995-4181-b691-09ea1b3d60b3",
     "showTitle": false,
     "tableResultSettingsMap": {},
     "title": ""
    }
   },
   "outputs": [],
   "source": [
    "sxgbc = SparkXGBClassifier(label_col=\"target\", features_col=feature_names, num_workers=sc.defaultParallelism, verbosity=1, device='cuda', **param)\n",
    "\n",
    "sxgbc.fit(sdf)"
   ]
  },
  {
   "cell_type": "code",
   "execution_count": 0,
   "metadata": {
    "application/vnd.databricks.v1+cell": {
     "cellMetadata": {
      "byteLimit": 2048000,
      "rowLimit": 10000
     },
     "inputWidgets": {},
     "nuid": "26b2b5f7-b1a6-4d5b-8857-e6a327739e81",
     "showTitle": false,
     "tableResultSettingsMap": {},
     "title": ""
    }
   },
   "outputs": [],
   "source": [
    "from xgboost.spark import SparkXGBClassifier\n",
    "from pyspark.ml.evaluation import MulticlassClassificationEvaluator\n",
    "from pyspark.ml.tuning import CrossValidator, ParamGridBuilder\n",
    "import optuna\n",
    "\n",
    "def tuning_action_propensity_class_sparkxgb(df, n_trials=150, n_folds=5):\n",
    "    # Define an objective function for Optuna\n",
    "    def objective(trial):\n",
    "        # Define the parameter grid\n",
    "        param = {\n",
    "            'objective': 'multi:softprob',\n",
    "            'num_class': num_labels,  # Change this to the number of classes in your dataset\n",
    "            'eval_metric': 'mlogloss',\n",
    "            # 'learning_rate': trial.suggest_float('learning_rate', 0.01, 0.3),\n",
    "            # 'max_depth': trial.suggest_int('max_depth', 3, 30),\n",
    "            # 'colsample_bytree': trial.suggest_float('colsample_bytree', 0.5, 1.0),\n",
    "            # 'subsample': trial.suggest_float('subsample', 0.5, 1.0),\n",
    "            'n_estimators': trial.suggest_int('n_estimators', 50, 500),\n",
    "            # 'max_delta_step': trial.suggest_int('max_delta_step', 0, 10)\n",
    "        }\n",
    "\n",
    "        # Initialize the GBTClassifier with parameters from Optuna\n",
    "        sxgbc = SparkXGBClassifier(label_col=\"target\", features_col=feature_names, num_workers=256, verbosity=1, **param) # num_workers=, \n",
    "        \n",
    "        # Evaluate the model using k-fold cross-validation\n",
    "        evaluator = MulticlassClassificationEvaluator(labelCol=\"indexedLabel\", predictionCol=\"prediction\", metricName=\"logLoss\")\n",
    "        crossval = CrossValidator(estimator=sxgbc, \n",
    "                                estimatorParamMaps=ParamGridBuilder().build(), \n",
    "                                evaluator=evaluator, \n",
    "                                numFolds=n_folds)  # k-fold cross-validation\n",
    "        \n",
    "        # Perform cross-validation\n",
    "        cv_model = crossval.fit(df)\n",
    "        \n",
    "        # Return the average AUC from cross-validation\n",
    "        avg_logloss = max(cv_model.avgMetrics)\n",
    "        return avg_logloss\n",
    "\n",
    "    # Run the Optuna optimization\n",
    "    study = optuna.create_study(direction='minimize')\n",
    "    study.optimize(objective, n_trials=n_trials, n_jobs=-1, timeout=600, catch=(Exception,), show_progress_bar=True)\n",
    "\n",
    "    # Plotting Parameter Importance\n",
    "    # param_importance_plot = vis.plot_param_importances(study)\n",
    "    # param_importance_plot.show()\n",
    "\n",
    "    # Print the best trial parameters\n",
    "    print(f'Best trial number: {study.best_trial.number}')\n",
    "    print(f'Best trial value: {study.best_trial.value}')\n",
    "    print(f'Best trial parameters: {study.best_trial.params}')\n",
    "\n",
    "tuning_action_propensity_class_sparkxgb(sdf, n_trials=5, n_folds=5)"
   ]
  }
 ],
 "metadata": {
  "application/vnd.databricks.v1+notebook": {
   "computePreferences": null,
   "dashboards": [],
   "environmentMetadata": {
    "base_environment": "",
    "environment_version": "2"
   },
   "language": "python",
   "notebookMetadata": {
    "pythonIndentUnit": 2
   },
   "notebookName": "03-spark-xgboost-example",
   "widgets": {
    "experiment_name": {
     "currentValue": "spark_vs_ray_xgboost",
     "nuid": "29bb63e2-0f91-4b60-a6ba-d53876ba6bb2",
     "typedWidgetInfo": {
      "autoCreated": false,
      "defaultValue": "spark_vs_ray_xgboost",
      "label": "experiment_name",
      "name": "experiment_name",
      "options": {
       "widgetDisplayType": "Text",
       "validationRegex": null
      },
      "parameterDataType": "String"
     },
     "widgetInfo": {
      "widgetType": "text",
      "defaultValue": "spark_vs_ray_xgboost",
      "label": "experiment_name",
      "name": "experiment_name",
      "options": {
       "widgetType": "text",
       "autoCreated": null,
       "validationRegex": null
      }
     }
    },
    "max_depth": {
     "currentValue": "5",
     "nuid": "3eaba735-d959-4066-950a-5b103e0c24ae",
     "typedWidgetInfo": {
      "autoCreated": false,
      "defaultValue": "5",
      "label": "max_depth",
      "name": "max_depth",
      "options": {
       "widgetDisplayType": "Text",
       "validationRegex": null
      },
      "parameterDataType": "String"
     },
     "widgetInfo": {
      "widgetType": "text",
      "defaultValue": "5",
      "label": "max_depth",
      "name": "max_depth",
      "options": {
       "widgetType": "text",
       "autoCreated": null,
       "validationRegex": null
      }
     }
    },
    "n_estimators": {
     "currentValue": "100",
     "nuid": "997583e1-d323-4230-9427-81d966e73d0f",
     "typedWidgetInfo": {
      "autoCreated": false,
      "defaultValue": "100",
      "label": "n_estimators",
      "name": "n_estimators",
      "options": {
       "widgetDisplayType": "Text",
       "validationRegex": null
      },
      "parameterDataType": "String"
     },
     "widgetInfo": {
      "widgetType": "text",
      "defaultValue": "100",
      "label": "n_estimators",
      "name": "n_estimators",
      "options": {
       "widgetType": "text",
       "autoCreated": null,
       "validationRegex": null
      }
     }
    },
    "num_labels": {
     "currentValue": "5",
     "nuid": "846afbdc-ae71-4c64-b151-03d6a0afd592",
     "typedWidgetInfo": {
      "autoCreated": false,
      "defaultValue": "2",
      "label": "num_labels",
      "name": "num_labels",
      "options": {
       "widgetDisplayType": "Text",
       "validationRegex": null
      },
      "parameterDataType": "String"
     },
     "widgetInfo": {
      "widgetType": "text",
      "defaultValue": "2",
      "label": "num_labels",
      "name": "num_labels",
      "options": {
       "widgetType": "text",
       "autoCreated": null,
       "validationRegex": null
      }
     }
    },
    "num_training_columns": {
     "currentValue": "500",
     "nuid": "994129aa-4943-4229-ab62-88a3f66fb891",
     "typedWidgetInfo": {
      "autoCreated": false,
      "defaultValue": "1000",
      "label": "num_training_columns",
      "name": "num_training_columns",
      "options": {
       "widgetDisplayType": "Text",
       "validationRegex": null
      },
      "parameterDataType": "String"
     },
     "widgetInfo": {
      "widgetType": "text",
      "defaultValue": "1000",
      "label": "num_training_columns",
      "name": "num_training_columns",
      "options": {
       "widgetType": "text",
       "autoCreated": null,
       "validationRegex": null
      }
     }
    },
    "num_training_rows": {
     "currentValue": "500_000",
     "nuid": "690fead9-d7ae-49b4-bd68-956ad2145223",
     "typedWidgetInfo": {
      "autoCreated": false,
      "defaultValue": "100",
      "label": "num_training_rows",
      "name": "num_training_rows",
      "options": {
       "widgetDisplayType": "Text",
       "validationRegex": null
      },
      "parameterDataType": "String"
     },
     "widgetInfo": {
      "widgetType": "text",
      "defaultValue": "100",
      "label": "num_training_rows",
      "name": "num_training_rows",
      "options": {
       "widgetType": "text",
       "autoCreated": null,
       "validationRegex": null
      }
     }
    }
   }
  },
  "language_info": {
   "name": "python"
  }
 },
 "nbformat": 4,
 "nbformat_minor": 0
}
